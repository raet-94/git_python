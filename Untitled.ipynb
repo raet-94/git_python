{
 "cells": [
  {
   "cell_type": "code",
   "execution_count": 1,
   "metadata": {},
   "outputs": [],
   "source": [
    "import os"
   ]
  },
  {
   "cell_type": "code",
   "execution_count": 2,
   "metadata": {},
   "outputs": [],
   "source": [
    "directory= \"/home/rodrigo/codigo/codigos_pruebas\"\n",
    "camino = os.walk(directory)"
   ]
  },
  {
   "cell_type": "code",
   "execution_count": 3,
   "metadata": {},
   "outputs": [
    {
     "name": "stdout",
     "output_type": "stream",
     "text": [
      "<generator object walk at 0x7efc82672950>\n"
     ]
    }
   ],
   "source": [
    "print(camino)"
   ]
  },
  {
   "cell_type": "code",
   "execution_count": 4,
   "metadata": {},
   "outputs": [
    {
     "name": "stdout",
     "output_type": "stream",
     "text": [
      "rooot /home/rodrigo/codigo/codigos_pruebas/conexiones_bds/test_postgres\n",
      "diiir ['venv_postgres', '.git']\n",
      "rooot /home/rodrigo/codigo/codigos_pruebas/conexiones_bds/test_mysql\n",
      "diiir ['venv_mysql', '.git']\n",
      "rooot /home/rodrigo/codigo/codigos_pruebas/test_repo\n",
      "diiir ['.git']\n",
      "['/home/rodrigo/codigo/codigos_pruebas/conexiones_bds/test_postgres', '/home/rodrigo/codigo/codigos_pruebas/conexiones_bds/test_mysql', '/home/rodrigo/codigo/codigos_pruebas/test_repo']\n"
     ]
    }
   ],
   "source": [
    "from os.path import join, getsize\n",
    "directories_with_git=[]\n",
    "roots = []\n",
    "for root, dirs, files in os.walk(directory):\n",
    "    if 'lib' in dirs:\n",
    "        dirs.remove('lib')\n",
    "    if '.vscode' in dirs:        \n",
    "        dirs.remove('.vscode')\n",
    "    if 'bin' in dirs:\n",
    "        dirs.remove('bin')\n",
    "    if 'share' in dirs:\n",
    "        dirs.remove('share')\n",
    "    if '.git' in dirs:\n",
    "        directories_with_git.append(dirs)\n",
    "        print(\"rooot\", root)\n",
    "        roots.append(root)\n",
    "        print(\"diiir\", dirs)\n",
    "        dirs.remove('.git')\n",
    "    if 'etc' in dirs:\n",
    "        dirs.remove('etc')\n",
    "    if 'include' in dirs:\n",
    "        dirs.remove('include')\n",
    "    #print(\"root\",root)\n",
    "    #roots.append(root)\n",
    "    #print(sum(getsize(join(root, name)) for name in files), end=\" \")\n",
    "    #print(\"bytes in\", len(files), \"non-directory files\")\n",
    "    #print(\"dirs\", dirs)\n",
    "    \n",
    "print(roots)    "
   ]
  },
  {
   "cell_type": "code",
   "execution_count": 10,
   "metadata": {},
   "outputs": [
    {
     "name": "stdout",
     "output_type": "stream",
     "text": [
      "['/home/rodrigo/codigo/codigos_pruebas/conexiones_bds/test_postgres', '/home/rodrigo/codigo/codigos_pruebas/conexiones_bds/test_mysql', '/home/rodrigo/codigo/codigos_pruebas/test_repo']\n"
     ]
    }
   ],
   "source": [
    "from os.path import join, getsize\n",
    "directories_with_git=[]\n",
    "roots = []\n",
    "standard_non_util_dirs= ['lib' , '.vscode' , 'bin','share','.git','etc' ,'include' ]\n",
    "for root, dirs, files in os.walk(directory):\n",
    "    if '.git' in dirs:\n",
    "        roots.append(root)\n",
    "       \n",
    "    for x in  standard_non_util_dirs:   \n",
    "        if x in dirs:\n",
    "            dirs.remove(x)\n",
    "    \n",
    "print(roots)    "
   ]
  },
  {
   "cell_type": "code",
   "execution_count": 7,
   "metadata": {},
   "outputs": [],
   "source": [
    "directories_with_git = roots"
   ]
  },
  {
   "cell_type": "code",
   "execution_count": 19,
   "metadata": {},
   "outputs": [],
   "source": [
    "non_valid_dirs = [\".vscode\", \"lib\"] "
   ]
  },
  {
   "cell_type": "code",
   "execution_count": null,
   "metadata": {},
   "outputs": [],
   "source": [
    "def remove_libs(directories, non_valid_dirs):\n",
    "    if 'lib' in dirs:\n",
    "        dirs.remove('lib')"
   ]
  },
  {
   "cell_type": "code",
   "execution_count": 29,
   "metadata": {},
   "outputs": [
    {
     "data": {
      "text/plain": [
       "['/home/rodrigo/codigo/codigos_pruebas/bittorrent',\n",
       " '/home/rodrigo/codigo/codigos_pruebas/conexiones_bds',\n",
       " '/home/rodrigo/codigo/codigos_pruebas/git_python',\n",
       " '/home/rodrigo/codigo/codigos_pruebas/test_repo',\n",
       " '/home/rodrigo/codigo/codigos_pruebas/variables_entorno']"
      ]
     },
     "execution_count": 29,
     "metadata": {},
     "output_type": "execute_result"
    }
   ],
   "source": [
    "import os\n",
    "\n",
    "d = directory\n",
    "child_directories= [os.path.join(d, o) for o in os.listdir(d) if os.path.isdir(os.path.join(d,o))]\n",
    "child_directories"
   ]
  },
  {
   "cell_type": "code",
   "execution_count": 90,
   "metadata": {},
   "outputs": [],
   "source": [
    "def check_gits_directories(directory):\n",
    "    directories_with_git = []\n",
    "    for root, dirs, files in os.walk(directory):\n",
    "        if 'lib' in dirs:\n",
    "            dirs.remove('lib')\n",
    "        if '.vscode' in dirs:        \n",
    "            dirs.remove('.vscode')\n",
    "        if 'bin' in dirs:\n",
    "            dirs.remove('bin')\n",
    "        if 'share' in dirs:\n",
    "            dirs.remove('share')\n",
    "        if '.git' in dirs:\n",
    "            directories_with_git.append(root)\n",
    "            #dirs.remove('.git')\n",
    "        if 'etc' in dirs:\n",
    "            dirs.remove('etc')\n",
    "        if 'include' in dirs:\n",
    "            dirs.remove('include')\n",
    "    return directories_with_git     "
   ]
  },
  {
   "cell_type": "code",
   "execution_count": 93,
   "metadata": {},
   "outputs": [
    {
     "data": {
      "text/plain": [
       "['/home/rodrigo/codigo/CustomSocial/new_branch/arrow-server',\n",
       " '/home/rodrigo/codigo/CustomSocial/vagrant_ubuntubionic64',\n",
       " '/home/rodrigo/codigo/CustomSocial/arrow-server',\n",
       " '/home/rodrigo/codigo/CustomSocial/cs-infrastructure',\n",
       " '/home/rodrigo/codigo/cloud-sql-jdbc-socket-factory',\n",
       " '/home/rodrigo/codigo/Axo/vagrant_ubuntubionic64',\n",
       " '/home/rodrigo/codigo/shield/vagrant_ubuntubionic64',\n",
       " '/home/rodrigo/codigo/codigos_pruebas/conexiones_bds/test_postgres',\n",
       " '/home/rodrigo/codigo/codigos_pruebas/conexiones_bds/test_mysql',\n",
       " '/home/rodrigo/codigo/codigos_pruebas/test_repo',\n",
       " '/home/rodrigo/codigo/vagrant/vagrant_ubuntubionic64',\n",
       " '/home/rodrigo/codigo/kof/conn_docdb',\n",
       " '/home/rodrigo/codigo/tesis/ga_FHIAIMS',\n",
       " '/home/rodrigo/codigo/terraform/devops-box']"
      ]
     },
     "execution_count": 93,
     "metadata": {},
     "output_type": "execute_result"
    }
   ],
   "source": [
    "dirs_util =check_gits_directories(\"/home/rodrigo/codigo\")\n",
    "dirs_util"
   ]
  },
  {
   "cell_type": "code",
   "execution_count": 153,
   "metadata": {},
   "outputs": [],
   "source": [
    "from git import Repo\n",
    "\n",
    "def print_commit_data(commit):\n",
    "    print('-----')\n",
    "    print(str(commit.hexsha))\n",
    "    print(\"\\\"{}\\\" by {} ({})\".format(commit.summary, commit.author.name, commit.author.email))\n",
    "    print(str(commit.authored_datetime))\n",
    "    print(str(\"count: {} and size: {}\".format(commit.count(), commit.size)))\n",
    "    \n",
    "def print_repository_info(repo):\n",
    "    #print('Repository description: {}'.format(repo.description))\n",
    "    print('Repository active branch is {}'.format(repo.active_branch))\n",
    "    for branch in repo.branches:\n",
    "        print('Branch named \"{}\" '.format(branch))\n",
    "    for remote in repo.remotes:\n",
    "        print('Remote named \"{}\" with URL \"{}\"'.format(remote, remote.url))\n",
    "\n",
    "    #print('Last commit for repository is {}.'.format(str(repo.head.commit.hexsha)))\n",
    "    status = repo.git.status()\n",
    "    uptodate= False \n",
    "    #print(\"Status: \", status)\n",
    "    if \"Your branch is up to date with\" in status:\n",
    "        print(\"Up to date\")\n",
    "        uptodate = True\n",
    "    return uptodate    \n",
    "\n",
    "\n",
    "repo_path = '/home/rodrigo/codigo/codigos_pruebas/test_repo'\n",
    "# Repo object used to interact with Git repositories\n",
    "\n",
    "COMMITS_TO_PRINT = 3\n",
    "# check that the repository loaded correctly\n",
    "def check_directory(repo_path):\n",
    "    repo = Repo(repo_path)\n",
    "    if not repo.bare:\n",
    "        print('Repo at {} successfully loaded.'.format(repo_path))\n",
    "        #print('Repo info:' )\n",
    "        print_repository_info(repo)\n",
    "        #status = repo.git.status()\n",
    "        #if \"Your branch is up to date with\" in status:\n",
    "        #    print(\"UP to date\")\n",
    "        \n",
    "        # create list of commits then print some of them to stdout\n",
    "        #commits = list(repo.iter_commits('{}'.format(repo.active_branch)))[:2]\n",
    "        #for commit in commits:\n",
    "        #    print_commit_data(commit)\n",
    "        #    pass\n",
    "        \n",
    "    else:\n",
    "        print('Could not load repository at {} :'.format(repo_path))\n",
    "    print('%%%%%%%%%%%%%%%%%%%%%%%%%%%%%%%%%%%%%%%%%%%%')    \n",
    "    return status\n",
    "#check_directory(repo_path)"
   ]
  },
  {
   "cell_type": "code",
   "execution_count": 154,
   "metadata": {},
   "outputs": [
    {
     "name": "stdout",
     "output_type": "stream",
     "text": [
      "Repo at /home/rodrigo/codigo/CustomSocial/new_branch/arrow-server successfully loaded.\n",
      "Repository active branch is change-run\n",
      "Branch named \"change-run\" \n",
      "Remote named \"origin\" with URL \"https://rodrigo_espinola@bitbucket.org/datascience19/arrow-server.git\"\n",
      "Up to date\n",
      "%%%%%%%%%%%%%%%%%%%%%%%%%%%%%%%%%%%%%%%%%%%%\n",
      "Repo at /home/rodrigo/codigo/CustomSocial/vagrant_ubuntubionic64 successfully loaded.\n",
      "Repository active branch is main\n",
      "Branch named \"main\" \n",
      "Remote named \"origin\" with URL \"https://github.com/raet-94/vagrant_ubuntubionic64.git\"\n",
      "Up to date\n",
      "%%%%%%%%%%%%%%%%%%%%%%%%%%%%%%%%%%%%%%%%%%%%\n",
      "Repo at /home/rodrigo/codigo/CustomSocial/arrow-server successfully loaded.\n",
      "Repository active branch is development\n",
      "Branch named \"development\" \n",
      "Remote named \"origin\" with URL \"https://git-codecommit.us-west-2.amazonaws.com/v1/repos/arrow-server\"\n",
      "Up to date\n",
      "%%%%%%%%%%%%%%%%%%%%%%%%%%%%%%%%%%%%%%%%%%%%\n",
      "Repo at /home/rodrigo/codigo/CustomSocial/cs-infrastructure successfully loaded.\n",
      "Repository active branch is master\n",
      "Branch named \"master\" \n",
      "Remote named \"origin\" with URL \"https://github.com/custom-social/cs-infrastructure.git\"\n",
      "Up to date\n",
      "%%%%%%%%%%%%%%%%%%%%%%%%%%%%%%%%%%%%%%%%%%%%\n",
      "Repo at /home/rodrigo/codigo/cloud-sql-jdbc-socket-factory successfully loaded.\n",
      "Repository active branch is master\n",
      "Branch named \"master\" \n",
      "Remote named \"origin\" with URL \"https://github.com/vhajdari/cloud-sql-jdbc-socket-factory.git\"\n",
      "Up to date\n",
      "%%%%%%%%%%%%%%%%%%%%%%%%%%%%%%%%%%%%%%%%%%%%\n",
      "Repo at /home/rodrigo/codigo/Axo/vagrant_ubuntubionic64 successfully loaded.\n",
      "Repository active branch is main\n",
      "Branch named \"main\" \n",
      "Remote named \"origin\" with URL \"https://github.com/raet-94/vagrant_ubuntubionic64.git\"\n",
      "Up to date\n",
      "%%%%%%%%%%%%%%%%%%%%%%%%%%%%%%%%%%%%%%%%%%%%\n",
      "Repo at /home/rodrigo/codigo/shield/vagrant_ubuntubionic64 successfully loaded.\n",
      "Repository active branch is main\n",
      "Branch named \"main\" \n",
      "Remote named \"origin\" with URL \"https://github.com/raet-94/vagrant_ubuntubionic64.git\"\n",
      "Up to date\n",
      "%%%%%%%%%%%%%%%%%%%%%%%%%%%%%%%%%%%%%%%%%%%%\n",
      "Repo at /home/rodrigo/codigo/codigos_pruebas/conexiones_bds/test_postgres successfully loaded.\n",
      "Repository active branch is main\n",
      "Branch named \"main\" \n",
      "Remote named \"origin\" with URL \"https://github.com/raet-94/test_postgres.git\"\n",
      "Up to date\n",
      "%%%%%%%%%%%%%%%%%%%%%%%%%%%%%%%%%%%%%%%%%%%%\n",
      "Repo at /home/rodrigo/codigo/codigos_pruebas/conexiones_bds/test_mysql successfully loaded.\n",
      "Repository active branch is main\n",
      "Branch named \"main\" \n",
      "Remote named \"origin\" with URL \"https://github.com/raet-94/test_mysql.git\"\n",
      "Up to date\n",
      "%%%%%%%%%%%%%%%%%%%%%%%%%%%%%%%%%%%%%%%%%%%%\n",
      "Repo at /home/rodrigo/codigo/codigos_pruebas/test_repo successfully loaded.\n",
      "Repository active branch is main\n",
      "Branch named \"main\" \n",
      "Remote named \"origin\" with URL \"https://github.com/raet-94/test_repo.git\"\n",
      "Up to date\n",
      "%%%%%%%%%%%%%%%%%%%%%%%%%%%%%%%%%%%%%%%%%%%%\n",
      "Repo at /home/rodrigo/codigo/vagrant/vagrant_ubuntubionic64 successfully loaded.\n",
      "Repository active branch is main\n",
      "Branch named \"main\" \n",
      "Remote named \"origin\" with URL \"https://github.com/raet-94/vagrant_ubuntubionic64.git\"\n",
      "Up to date\n",
      "%%%%%%%%%%%%%%%%%%%%%%%%%%%%%%%%%%%%%%%%%%%%\n",
      "Repo at /home/rodrigo/codigo/kof/conn_docdb successfully loaded.\n",
      "Repository active branch is master\n",
      "Branch named \"master\" \n",
      "Remote named \"origin\" with URL \"https://github.com/raet-94/conn_docdb.git\"\n",
      "Up to date\n",
      "%%%%%%%%%%%%%%%%%%%%%%%%%%%%%%%%%%%%%%%%%%%%\n",
      "Repo at /home/rodrigo/codigo/tesis/ga_FHIAIMS successfully loaded.\n",
      "Repository active branch is master\n",
      "Branch named \"master\" \n",
      "Remote named \"origin\" with URL \"https://github.com/NanoCatalysis/ga_FHIAIMS.git\"\n",
      "Up to date\n",
      "%%%%%%%%%%%%%%%%%%%%%%%%%%%%%%%%%%%%%%%%%%%%\n",
      "Repo at /home/rodrigo/codigo/terraform/devops-box successfully loaded.\n",
      "Repository active branch is master\n",
      "Branch named \"master\" \n",
      "Remote named \"origin\" with URL \"https://github.com/wardviaene/devops-box.git\"\n",
      "Up to date\n",
      "%%%%%%%%%%%%%%%%%%%%%%%%%%%%%%%%%%%%%%%%%%%%\n"
     ]
    }
   ],
   "source": [
    "for x in dirs_util:\n",
    "    check_directory(x)"
   ]
  },
  {
   "cell_type": "code",
   "execution_count": 155,
   "metadata": {},
   "outputs": [
    {
     "name": "stdout",
     "output_type": "stream",
     "text": [
      "Repo at /home/rodrigo/codigo/CustomSocial/new_branch/arrow-server successfully loaded.\n",
      "Repository active branch is change-run\n",
      "Branch named \"change-run\" \n",
      "Remote named \"origin\" with URL \"https://rodrigo_espinola@bitbucket.org/datascience19/arrow-server.git\"\n",
      "Up to date\n",
      "%%%%%%%%%%%%%%%%%%%%%%%%%%%%%%%%%%%%%%%%%%%%\n"
     ]
    },
    {
     "data": {
      "text/plain": [
       "'On branch change-run\\nYour branch is up to date with \\'origin/change-run\\'.\\n\\nChanges not staged for commit:\\n  (use \"git add <file>...\" to update what will be committed)\\n  (use \"git restore <file>...\" to discard changes in working directory)\\n\\tmodified:   package.json\\n\\nUntracked files:\\n  (use \"git add <file>...\" to include in what will be committed)\\n\\tarrow-server-source.zip\\n\\nno changes added to commit (use \"git add\" and/or \"git commit -a\")'"
      ]
     },
     "execution_count": 155,
     "metadata": {},
     "output_type": "execute_result"
    }
   ],
   "source": [
    "status = check_directory(dirs_util[0])\n",
    "status"
   ]
  },
  {
   "cell_type": "code",
   "execution_count": 156,
   "metadata": {},
   "outputs": [
    {
     "name": "stdout",
     "output_type": "stream",
     "text": [
      "UP to date\n"
     ]
    }
   ],
   "source": [
    "lines =status.splitlines()\n",
    "if \"Your branch is up to date with\" in status:\n",
    "    print(\"UP to date\")"
   ]
  },
  {
   "cell_type": "code",
   "execution_count": 160,
   "metadata": {},
   "outputs": [
    {
     "data": {
      "text/plain": [
       "['arrow-server-source.zip']"
      ]
     },
     "execution_count": 160,
     "metadata": {},
     "output_type": "execute_result"
    }
   ],
   "source": [
    "repo = Repo(dirs_util[0])\n",
    "repo.untracked_files"
   ]
  },
  {
   "cell_type": "code",
   "execution_count": null,
   "metadata": {},
   "outputs": [],
   "source": []
  }
 ],
 "metadata": {
  "kernelspec": {
   "display_name": "Python 3",
   "language": "python",
   "name": "python3"
  },
  "language_info": {
   "codemirror_mode": {
    "name": "ipython",
    "version": 3
   },
   "file_extension": ".py",
   "mimetype": "text/x-python",
   "name": "python",
   "nbconvert_exporter": "python",
   "pygments_lexer": "ipython3",
   "version": "3.7.6"
  }
 },
 "nbformat": 4,
 "nbformat_minor": 4
}
